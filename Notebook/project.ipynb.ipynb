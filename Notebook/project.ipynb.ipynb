{
 "cells": [
  {
   "cell_type": "code",
   "execution_count": 80,
   "metadata": {},
   "outputs": [],
   "source": [
    "# Importing necessary libraries\n",
    "import pandas as pd\n",
    "import numpy as np\n",
    "#Reading the csv file into a Dataframe\n",
    "bank_marketing = pd.read_csv(r\"C:\\Users\\admin\\Downloads\\bank_marketing.csv\")\n",
    "# Spliting the csv file into 3 small Dataframes\n",
    "client = bank_marketing[[\"client_id\",\"age\",\"job\",\"marital\", \"education\", \"credit_default\",\"mortgage\"]]\n",
    "campaign = bank_marketing[[\"client_id\", \"number_contacts\", \"contact_duration\", \"previous_campaign_contacts\", \"previous_outcome\",\"campaign_outcome\",\"day\",\"month\"]]\n",
    "economics = bank_marketing[[\"client_id\",\"cons_price_idx\",\"euribor_three_months\"]]\n"
   ]
  },
  {
   "cell_type": "code",
   "execution_count": null,
   "metadata": {},
   "outputs": [],
   "source": [
    "# Cleaning the client Dataframe\n",
    "changes = {'yes':1,'no':0, 'unknown':0}\n",
    "client['education'] = client['education'].str.replace('.','_')\n",
    "client['education'] = client['education'].replace('unknown',np.nan)\n",
    "client['job'] = client['job'].str.replace('.','_')\n",
    "client['credit_default'] = client['credit_default'].map(changes)\n",
    "client['mortgage'] = client['mortgage'].map(changes)\n",
    "# Convert both columns to boolean\n",
    "for column in ['credit_default','mortgage']:\n",
    "    client[column] = client[column].astype(bool)"
   ]
  },
  {
   "cell_type": "code",
   "execution_count": null,
   "metadata": {},
   "outputs": [],
   "source": [
    "#Cleaning the campaign Dataframe\n",
    "campaign['campaign_outcome'] = campaign['campaign_outcome'].map(changes)\n",
    "second_changes = {'success':1,'failure':0,'nonexistent':0}\n",
    "campaign['previous_outcome'] = campaign['previous_outcome'].map(second_changes)\n",
    "# Convert both columns to boolean\n",
    "for column in ['campaign_outcome','previous_outcome']:\n",
    "    campaign[column] = campaign[column].astype(bool)\n",
    "# Create 'last_contact_date'\n",
    "campaign['year'] = '2023'\n",
    "campaign['day'] = campaign['day'].astype(str)\n",
    "campaign['last_contact_date'] = campaign['year'] + '-' + campaign['month'] + '-' + campaign['day']\n",
    "campaign['last_contact_date'] = pd.to_datetime(campaign['last_contact_date'])\n",
    "# Drop unnecessary columns\n",
    "campaign.drop(columns = ['year','month','day'], inplace = True)"
   ]
  },
  {
   "cell_type": "code",
   "execution_count": 74,
   "metadata": {},
   "outputs": [],
   "source": [
    "# Saving the cleaned DataFrames to CSV files\n",
    "client.to_csv('client.csv',index = False)\n",
    "campaign.to_csv('campaign.csv',index = False)\n",
    "economics.to_csv('economics.csv',index = False)"
   ]
  }
 ],
 "metadata": {
  "kernelspec": {
   "display_name": "Python 3",
   "language": "python",
   "name": "python3"
  },
  "language_info": {
   "codemirror_mode": {
    "name": "ipython",
    "version": 3
   },
   "file_extension": ".py",
   "mimetype": "text/x-python",
   "name": "python",
   "nbconvert_exporter": "python",
   "pygments_lexer": "ipython3",
   "version": "3.12.5"
  }
 },
 "nbformat": 4,
 "nbformat_minor": 2
}
